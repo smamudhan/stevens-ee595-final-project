{
 "cells": [
  {
   "cell_type": "code",
   "execution_count": 25,
   "id": "c708f3eb-f7d1-4b0d-9ef2-0ef42141bfc8",
   "metadata": {},
   "outputs": [
    {
     "name": "stdout",
     "output_type": "stream",
     "text": [
      "Requirement already satisfied: torch in /usr/local/lib/python3.10/dist-packages (2.1.0+cu118)\n",
      "Requirement already satisfied: torchvision in /usr/local/lib/python3.10/dist-packages (0.16.0+cu118)\n",
      "Requirement already satisfied: matplotlib in /usr/local/lib/python3.10/dist-packages (3.10.0)\n",
      "Requirement already satisfied: filelock in /usr/local/lib/python3.10/dist-packages (from torch) (3.9.0)\n",
      "Requirement already satisfied: typing-extensions in /usr/local/lib/python3.10/dist-packages (from torch) (4.4.0)\n",
      "Requirement already satisfied: sympy in /usr/local/lib/python3.10/dist-packages (from torch) (1.12)\n",
      "Requirement already satisfied: networkx in /usr/local/lib/python3.10/dist-packages (from torch) (3.0)\n",
      "Requirement already satisfied: jinja2 in /usr/local/lib/python3.10/dist-packages (from torch) (3.1.2)\n",
      "Requirement already satisfied: fsspec in /usr/local/lib/python3.10/dist-packages (from torch) (2023.4.0)\n",
      "Requirement already satisfied: triton==2.1.0 in /usr/local/lib/python3.10/dist-packages (from torch) (2.1.0)\n",
      "Requirement already satisfied: numpy in /usr/local/lib/python3.10/dist-packages (from torchvision) (1.24.1)\n",
      "Requirement already satisfied: requests in /usr/local/lib/python3.10/dist-packages (from torchvision) (2.31.0)\n",
      "Requirement already satisfied: pillow!=8.3.*,>=5.3.0 in /usr/local/lib/python3.10/dist-packages (from torchvision) (9.3.0)\n",
      "Requirement already satisfied: contourpy>=1.0.1 in /usr/local/lib/python3.10/dist-packages (from matplotlib) (1.3.1)\n",
      "Requirement already satisfied: cycler>=0.10 in /usr/local/lib/python3.10/dist-packages (from matplotlib) (0.12.1)\n",
      "Requirement already satisfied: fonttools>=4.22.0 in /usr/local/lib/python3.10/dist-packages (from matplotlib) (4.55.3)\n",
      "Requirement already satisfied: kiwisolver>=1.3.1 in /usr/local/lib/python3.10/dist-packages (from matplotlib) (1.4.7)\n",
      "Requirement already satisfied: packaging>=20.0 in /usr/local/lib/python3.10/dist-packages (from matplotlib) (23.2)\n",
      "Requirement already satisfied: pyparsing>=2.3.1 in /usr/lib/python3/dist-packages (from matplotlib) (2.4.7)\n",
      "Requirement already satisfied: python-dateutil>=2.7 in /usr/local/lib/python3.10/dist-packages (from matplotlib) (2.8.2)\n",
      "Requirement already satisfied: six>=1.5 in /usr/lib/python3/dist-packages (from python-dateutil>=2.7->matplotlib) (1.16.0)\n",
      "Requirement already satisfied: MarkupSafe>=2.0 in /usr/local/lib/python3.10/dist-packages (from jinja2->torch) (2.1.2)\n",
      "Requirement already satisfied: charset-normalizer<4,>=2 in /usr/local/lib/python3.10/dist-packages (from requests->torchvision) (2.1.1)\n",
      "Requirement already satisfied: idna<4,>=2.5 in /usr/local/lib/python3.10/dist-packages (from requests->torchvision) (3.4)\n",
      "Requirement already satisfied: urllib3<3,>=1.21.1 in /usr/local/lib/python3.10/dist-packages (from requests->torchvision) (1.26.13)\n",
      "Requirement already satisfied: certifi>=2017.4.17 in /usr/local/lib/python3.10/dist-packages (from requests->torchvision) (2022.12.7)\n",
      "Requirement already satisfied: mpmath>=0.19 in /usr/local/lib/python3.10/dist-packages (from sympy->torch) (1.3.0)\n",
      "\u001b[33mWARNING: Running pip as the 'root' user can result in broken permissions and conflicting behaviour with the system package manager. It is recommended to use a virtual environment instead: https://pip.pypa.io/warnings/venv\u001b[0m\u001b[33m\n",
      "\u001b[0m\n",
      "\u001b[1m[\u001b[0m\u001b[34;49mnotice\u001b[0m\u001b[1;39;49m]\u001b[0m\u001b[39;49m A new release of pip is available: \u001b[0m\u001b[31;49m23.3.1\u001b[0m\u001b[39;49m -> \u001b[0m\u001b[32;49m24.3.1\u001b[0m\n",
      "\u001b[1m[\u001b[0m\u001b[34;49mnotice\u001b[0m\u001b[1;39;49m]\u001b[0m\u001b[39;49m To update, run: \u001b[0m\u001b[32;49mpython -m pip install --upgrade pip\u001b[0m\n",
      "Note: you may need to restart the kernel to use updated packages.\n"
     ]
    }
   ],
   "source": [
    "pip install torch torchvision matplotlib"
   ]
  },
  {
   "cell_type": "code",
   "execution_count": 26,
   "id": "cd7a88a7-2cd5-418b-94de-8919f3bafce3",
   "metadata": {},
   "outputs": [],
   "source": [
    "import torch\n",
    "import torch.nn as nn\n",
    "import torch.optim as optim\n",
    "from torchvision import datasets, transforms\n",
    "from torch.utils.data import DataLoader, random_split\n",
    "import os\n",
    "import matplotlib.pyplot as plt"
   ]
  },
  {
   "cell_type": "code",
   "execution_count": 27,
   "id": "0eef6062-55e6-449f-be87-f58b6397bb79",
   "metadata": {},
   "outputs": [
    {
     "name": "stdout",
     "output_type": "stream",
     "text": [
      "Using device: cuda\n"
     ]
    }
   ],
   "source": [
    "# Verify if GPU is available\n",
    "device = torch.device(\"cuda\" if torch.cuda.is_available() else \"cpu\")\n",
    "print(f\"Using device: {device}\")\n",
    "\n",
    "# Set paths to dataset\n",
    "data_dir = \"./dataset/dataset-full\"  \n",
    "output_dir = \"./output/full-dataset/vanilla-cnn\""
   ]
  },
  {
   "cell_type": "code",
   "execution_count": 28,
   "id": "c4d28726-8623-47e3-a95b-7130918cd222",
   "metadata": {},
   "outputs": [
    {
     "name": "stdout",
     "output_type": "stream",
     "text": [
      "Starting Data Transformations\n",
      "Data Transformations Complete\n"
     ]
    }
   ],
   "source": [
    "# Define data transformations\n",
    "print(\"Starting Data Transformations\")\n",
    "transform = transforms.Compose([\n",
    "    transforms.Resize((200, 200)),\n",
    "    transforms.ToTensor(),\n",
    "    transforms.Normalize(mean=[0.5, 0.5, 0.5], std=[0.5, 0.5, 0.5])\n",
    "])\n",
    "print(\"Data Transformations Complete\")"
   ]
  },
  {
   "cell_type": "code",
   "execution_count": 29,
   "id": "29533363-80b8-43aa-9c7a-c8b33dbc3340",
   "metadata": {},
   "outputs": [],
   "source": [
    "dataset = datasets.ImageFolder(data_dir, transform=transform)"
   ]
  },
  {
   "cell_type": "code",
   "execution_count": 30,
   "id": "0a85cbb9-4982-4a80-9d96-b912d426aa60",
   "metadata": {},
   "outputs": [
    {
     "name": "stdout",
     "output_type": "stream",
     "text": [
      "Splitting dataset into training, validation, and test sets\n"
     ]
    }
   ],
   "source": [
    "# Split dataset into training, validation, and test sets\n",
    "print(\"Splitting dataset into training, validation, and test sets\")\n",
    "train_size = int(0.7 * len(dataset))\n",
    "val_size = int(0.2 * len(dataset))\n",
    "test_size = len(dataset) - train_size - val_size\n",
    "\n",
    "train_dataset, val_dataset, test_dataset = random_split(dataset, [train_size, val_size, test_size])"
   ]
  },
  {
   "cell_type": "code",
   "execution_count": 31,
   "id": "572a266a-4158-457b-85d4-6e4a85be458e",
   "metadata": {},
   "outputs": [
    {
     "name": "stdout",
     "output_type": "stream",
     "text": [
      "Preparing data loaders\n",
      "Finished preparing data loaders\n"
     ]
    }
   ],
   "source": [
    "print(\"Preparing data loaders\")\n",
    "train_loader = DataLoader(train_dataset, batch_size=800, shuffle=True, num_workers=13, pin_memory=True)\n",
    "val_loader = DataLoader(val_dataset, batch_size=500, shuffle=False, num_workers=13, pin_memory=True)\n",
    "test_loader = DataLoader(test_dataset, batch_size=500, shuffle=False, num_workers=13, pin_memory=True)\n",
    "print(\"Finished preparing data loaders\")"
   ]
  },
  {
   "cell_type": "code",
   "execution_count": 32,
   "id": "30205082-5341-4e87-bcbd-3b847c46f62a",
   "metadata": {},
   "outputs": [],
   "source": [
    "# Define the model\n",
    "class CNNModel(nn.Module):\n",
    "    def __init__(self):\n",
    "        super(CNNModel, self).__init__()\n",
    "        self.conv_layers = nn.Sequential(\n",
    "            nn.Conv2d(3, 32, kernel_size=3),\n",
    "            nn.ReLU(),\n",
    "            nn.MaxPool2d(kernel_size=2, stride=2),\n",
    "            nn.Conv2d(32, 64, kernel_size=3),\n",
    "            nn.ReLU(),\n",
    "            nn.MaxPool2d(kernel_size=2, stride=2),\n",
    "            nn.Conv2d(64, 128, kernel_size=3),\n",
    "            nn.ReLU(),\n",
    "            nn.MaxPool2d(kernel_size=2, stride=2)\n",
    "        )\n",
    "        # Calculate the flattened size after the convolutional layers\n",
    "        test_input = torch.zeros(1, 3, 200, 200)  # Example input\n",
    "        conv_output_size = self.conv_layers(test_input).view(1, -1).size(1)\n",
    "\n",
    "        self.fc_layers = nn.Sequential(\n",
    "            nn.Flatten(),\n",
    "            nn.Linear(conv_output_size, 128),\n",
    "            nn.ReLU(),\n",
    "            nn.Dropout(0.5),\n",
    "            nn.Linear(128, 1),\n",
    "            nn.Sigmoid()\n",
    "        )\n",
    "\n",
    "    def forward(self, x):\n",
    "        x = self.conv_layers(x)\n",
    "        x = self.fc_layers(x)\n",
    "        return x\n"
   ]
  },
  {
   "cell_type": "markdown",
   "id": "c0ad57c2",
   "metadata": {},
   "source": [
    "Convolutional Layers (conv_layers):\n",
    "    The network has three convolutional blocks:\n",
    "        Each block includes a convolutional layer (e.g., nn.Conv2d) with ReLU activation and a max pooling layer (nn.MaxPool2d) for downsampling.\n",
    "    The input channels start at 3 (e.g., for RGB images) and progressively increase to 32, 64, and 128.\n",
    "\n",
    "Dynamic Flattening Size Calculation:\n",
    "    To determine the output size of the convolutional layers dynamically, a dummy input tensor of shape\n",
    "\t(1, 3, 200, 200) is passed through self.conv_layers.\n",
    "    The output is flattened, and its size is computed using .view(1, -1).size(1).\n",
    "\n",
    "Fully Connected Layers (fc_layers):\n",
    "    After flattening, the data passes through two fully connected layers (nn.Linear):\n",
    "        First layer reduces to 128 units with a ReLU activation and a Dropout (50% for regularization).\n",
    "        Second layer reduces to 1 output with a Sigmoid activation for binary classification.\n",
    "\n",
    "Output:The model outputs a probability score (range [0, 1]) for binary classification."
   ]
  },
  {
   "cell_type": "code",
   "execution_count": 33,
   "id": "7fe082f3-2f4d-4e30-b442-f9008b92f24a",
   "metadata": {},
   "outputs": [
    {
     "name": "stdout",
     "output_type": "stream",
     "text": [
      "Starting Model Definition\n",
      "Model Definition Complete\n"
     ]
    }
   ],
   "source": [
    "print(\"Starting Model Definition\")\n",
    "model = CNNModel().to(device)\n",
    "print(\"Model Definition Complete\")\n"
   ]
  },
  {
   "cell_type": "code",
   "execution_count": 34,
   "id": "524ec7d8-f430-4aae-9828-51264df7f9ea",
   "metadata": {},
   "outputs": [],
   "source": [
    "# Define loss function and optimizer\n",
    "criterion = nn.BCELoss()\n",
    "optimizer = optim.Adam(model.parameters(), lr=0.001)"
   ]
  },
  {
   "cell_type": "code",
   "execution_count": 35,
   "id": "060f45b9-a451-4b48-8d27-f369dcc45036",
   "metadata": {},
   "outputs": [],
   "source": [
    "# Update the training loop to record loss and accuracy\n",
    "def train_model(model, train_loader, val_loader, criterion, optimizer, device, epochs=10):\n",
    "    print(\"Starting Training Function\")\n",
    "    train_losses = []\n",
    "    val_losses = []\n",
    "    val_accuracies = []\n",
    "\n",
    "    for epoch in range(epochs):\n",
    "        model.train()\n",
    "        running_loss = 0.0\n",
    "        for inputs, labels in train_loader:\n",
    "            inputs, labels = inputs.to(device), labels.to(device).float()\n",
    "            optimizer.zero_grad()\n",
    "            outputs = model(inputs).squeeze()\n",
    "            loss = criterion(outputs, labels)\n",
    "            loss.backward()\n",
    "            optimizer.step()\n",
    "            running_loss += loss.item()\n",
    "\n",
    "        avg_train_loss = running_loss / len(train_loader)\n",
    "        train_losses.append(avg_train_loss)\n",
    "\n",
    "        # Validation phase\n",
    "        model.eval()\n",
    "        val_loss = 0.0\n",
    "        correct = 0\n",
    "        with torch.no_grad():\n",
    "            for inputs, labels in val_loader:\n",
    "                inputs, labels = inputs.to(device), labels.to(device).float()\n",
    "                outputs = model(inputs).squeeze()\n",
    "                loss = criterion(outputs, labels)\n",
    "                val_loss += loss.item()\n",
    "                preds = (outputs > 0.5).float()\n",
    "                correct += (preds == labels).sum().item()\n",
    "\n",
    "        avg_val_loss = val_loss / len(val_loader)\n",
    "        val_losses.append(avg_val_loss)\n",
    "\n",
    "        val_accuracy = correct / len(val_loader.dataset)\n",
    "        val_accuracies.append(val_accuracy)\n",
    "\n",
    "        print(f\"Epoch {epoch+1}, Train Loss: {avg_train_loss:.4f}, Validation Loss: {avg_val_loss:.4f}, Validation Accuracy: {val_accuracy:.4f}\")\n",
    "\n",
    "    return train_losses, val_losses, val_accuracies"
   ]
  },
  {
   "cell_type": "code",
   "execution_count": 36,
   "id": "0f847d7f-9c86-434c-9c8f-a125327879fc",
   "metadata": {},
   "outputs": [
    {
     "name": "stdout",
     "output_type": "stream",
     "text": [
      "Starting Training Function\n",
      "Epoch 1, Train Loss: 0.3845, Validation Loss: 0.2290, Validation Accuracy: 0.9103\n",
      "Epoch 2, Train Loss: 0.2194, Validation Loss: 0.2015, Validation Accuracy: 0.9220\n",
      "Epoch 3, Train Loss: 0.1836, Validation Loss: 0.1660, Validation Accuracy: 0.9351\n",
      "Epoch 4, Train Loss: 0.1659, Validation Loss: 0.1463, Validation Accuracy: 0.9433\n",
      "Epoch 5, Train Loss: 0.1496, Validation Loss: 0.1404, Validation Accuracy: 0.9442\n",
      "Epoch 6, Train Loss: 0.1454, Validation Loss: 0.1376, Validation Accuracy: 0.9467\n",
      "Epoch 7, Train Loss: 0.1256, Validation Loss: 0.1346, Validation Accuracy: 0.9484\n",
      "Epoch 8, Train Loss: 0.1174, Validation Loss: 0.1252, Validation Accuracy: 0.9523\n",
      "Epoch 9, Train Loss: 0.1085, Validation Loss: 0.1275, Validation Accuracy: 0.9514\n",
      "Epoch 10, Train Loss: 0.0914, Validation Loss: 0.1317, Validation Accuracy: 0.9516\n",
      "Epoch 11, Train Loss: 0.0827, Validation Loss: 0.1482, Validation Accuracy: 0.9478\n",
      "Epoch 12, Train Loss: 0.0732, Validation Loss: 0.1170, Validation Accuracy: 0.9594\n",
      "Epoch 13, Train Loss: 0.0582, Validation Loss: 0.1332, Validation Accuracy: 0.9583\n",
      "Epoch 14, Train Loss: 0.0521, Validation Loss: 0.1393, Validation Accuracy: 0.9568\n",
      "Epoch 15, Train Loss: 0.0407, Validation Loss: 0.1447, Validation Accuracy: 0.9584\n",
      "Epoch 16, Train Loss: 0.0349, Validation Loss: 0.1667, Validation Accuracy: 0.9578\n",
      "Epoch 17, Train Loss: 0.0305, Validation Loss: 0.1872, Validation Accuracy: 0.9508\n",
      "Epoch 18, Train Loss: 0.0253, Validation Loss: 0.2247, Validation Accuracy: 0.9538\n",
      "Epoch 19, Train Loss: 0.0220, Validation Loss: 0.1965, Validation Accuracy: 0.9530\n",
      "Epoch 20, Train Loss: 0.0209, Validation Loss: 0.2164, Validation Accuracy: 0.9584\n",
      "Epoch 21, Train Loss: 0.0150, Validation Loss: 0.2656, Validation Accuracy: 0.9573\n",
      "Epoch 22, Train Loss: 0.0348, Validation Loss: 0.2433, Validation Accuracy: 0.9561\n",
      "Epoch 23, Train Loss: 0.0177, Validation Loss: 0.2526, Validation Accuracy: 0.9554\n",
      "Epoch 24, Train Loss: 0.0109, Validation Loss: 0.2593, Validation Accuracy: 0.9584\n",
      "Epoch 25, Train Loss: 0.0137, Validation Loss: 0.2639, Validation Accuracy: 0.9543\n"
     ]
    }
   ],
   "source": [
    "# Call train_model and store metrics\n",
    "train_losses, val_losses, val_accuracies = train_model(model, train_loader, val_loader, criterion, optimizer, device, epochs=25)"
   ]
  },
  {
   "cell_type": "code",
   "execution_count": 37,
   "id": "c3e28b70-e3d7-4e55-a0ac-a9746589bd9a",
   "metadata": {},
   "outputs": [
    {
     "data": {
      "image/png": "[encoded data removed]",
      "text/plain": [
       "<Figure size 1200x500 with 2 Axes>"
      ]
     },
     "metadata": {},
     "output_type": "display_data"
    },
    {
     "data": {
      "text/plain": [
       "<Figure size 640x480 with 0 Axes>"
      ]
     },
     "metadata": {},
     "output_type": "display_data"
    }
   ],
   "source": [
    "# Plot training and validation loss\n",
    "plt.figure(figsize=(12, 5))\n",
    "plt.subplot(1, 2, 1)\n",
    "plt.plot(train_losses, label='Train Loss')\n",
    "plt.plot(val_losses, label='Validation Loss')\n",
    "plt.xlabel('Epochs')\n",
    "plt.ylabel('Loss')\n",
    "plt.title('Training and Validation Loss')\n",
    "plt.legend()\n",
    "\n",
    "# Plot validation accuracy\n",
    "plt.subplot(1, 2, 2)\n",
    "plt.plot(val_accuracies, label='Validation Accuracy', color='green')\n",
    "plt.xlabel('Epochs')\n",
    "plt.ylabel('Accuracy')\n",
    "plt.title('Validation Accuracy')\n",
    "plt.legend()\n",
    "\n",
    "plt.tight_layout()\n",
    "plt.show()\n",
    "plt.savefig(f'{output_dir}/training_metrics.png')"
   ]
  },
  {
   "cell_type": "markdown",
   "id": "265b6427",
   "metadata": {},
   "source": [
    "Peak Performance:\n",
    "    The model achieves its best validation performance around Epoch 12:\n",
    "        Validation Loss: 0.1170\n",
    "        Validation Accuracy: 95.94%\n",
    "\n",
    "Overfitting:\n",
    "    After Epoch 12, the validation loss begins to increase while the training loss continues to decrease, a classic sign of overfitting.\n",
    "    Example: By Epoch 25, the training loss is very low (0.0137), but the validation loss is much higher (0.2639).\n",
    "\n",
    " Generalization:\n",
    "    The validation accuracy remains relatively high throughout, suggesting the model retains reasonable generalization despite overfitting. However, accuracy fluctuations indicate diminishing returns in later epochs.\n",
    "\n"
   ]
  },
  {
   "cell_type": "code",
   "execution_count": 38,
   "id": "3c3b609c-d94b-44cb-b119-3501aeb1fb52",
   "metadata": {},
   "outputs": [
    {
     "name": "stdout",
     "output_type": "stream",
     "text": [
      "Test Loss: 0.2578, Test Accuracy: 0.9530\n"
     ]
    }
   ],
   "source": [
    "# Test the model and plot test accuracy if needed\n",
    "def test_model(model, test_loader, device):\n",
    "    model.eval()\n",
    "    test_loss = 0.0\n",
    "    correct = 0\n",
    "    with torch.no_grad():\n",
    "        for inputs, labels in test_loader:\n",
    "            inputs, labels = inputs.to(device), labels.to(device).float()\n",
    "            outputs = model(inputs).squeeze()\n",
    "            loss = criterion(outputs, labels)\n",
    "            test_loss += loss.item()\n",
    "            preds = (outputs > 0.5).float()\n",
    "            correct += (preds == labels).sum().item()\n",
    "\n",
    "    avg_test_loss = test_loss / len(test_loader)\n",
    "    test_accuracy = correct / len(test_loader.dataset)\n",
    "    print(f\"Test Loss: {avg_test_loss:.4f}, Test Accuracy: {test_accuracy:.4f}\")\n",
    "\n",
    "    return avg_test_loss, test_accuracy\n",
    "\n",
    "# Call the test_model function\n",
    "test_loss, test_accuracy = test_model(model, test_loader, device)"
   ]
  },
  {
   "cell_type": "markdown",
   "id": "5995de59",
   "metadata": {},
   "source": [
    "Generalization:\n",
    "The model generalizes well to the test data, demonstrating that overfitting (seen in later epochs) did not severely impact the final test performance.\n",
    "\n",
    "Performance Consistency:\n",
    "The test accuracy aligns closely with the validation accuracy, confirming that the validation set was representative of the test distribution.\n",
    "\n",
    "Optimization:\n",
    "The model achieves high accuracy despite a moderate test loss, indicating effective learning and suitability for the binary classification task."
   ]
  },
  {
   "cell_type": "code",
   "execution_count": 39,
   "id": "f38b60e3-3ddc-4f48-a175-be3eeaafef5f",
   "metadata": {},
   "outputs": [
    {
     "name": "stdout",
     "output_type": "stream",
     "text": [
      "Model training and testing complete. Model saved.\n"
     ]
    }
   ],
   "source": [
    "# Save the model\n",
    "torch.save(model.state_dict(), f\"{output_dir}/full_vanilla_cnn_weights.pth\")\n",
    "\n",
    "print(\"Model training and testing complete. Model saved.\")"
   ]
  }
 ],
 "metadata": {
  "kernelspec": {
   "display_name": "Python 3 (ipykernel)",
   "language": "python",
   "name": "python3"
  },
  "language_info": {
   "codemirror_mode": {
    "name": "ipython",
    "version": 3
   },
   "file_extension": ".py",
   "mimetype": "text/x-python",
   "name": "python",
   "nbconvert_exporter": "python",
   "pygments_lexer": "ipython3",
   "version": "3.10.12"
  }
 },
 "nbformat": 4,
 "nbformat_minor": 5
}
