{
 "cells": [
  {
   "cell_type": "code",
   "execution_count": 7,
   "id": "ea3f7f0b-2132-4af5-9e57-0354be03a576",
   "metadata": {},
   "outputs": [
    {
     "name": "stdout",
     "output_type": "stream",
     "text": [
      "Looking in links: https://rapids.ai/pip/cu11\n",
      "Requirement already satisfied: cuml-cu11 in /usr/local/lib/python3.10/dist-packages (24.12.0)\n",
      "Requirement already satisfied: dask-cudf-cu11 in /usr/local/lib/python3.10/dist-packages (24.12.0)\n",
      "Requirement already satisfied: cudf-cu11==24.12.* in /usr/local/lib/python3.10/dist-packages (from cuml-cu11) (24.12.0)\n",
      "Requirement already satisfied: cupy-cuda11x>=12.0.0 in /usr/local/lib/python3.10/dist-packages (from cuml-cu11) (13.3.0)\n",
      "Requirement already satisfied: cuvs-cu11==24.12.* in /usr/local/lib/python3.10/dist-packages (from cuml-cu11) (24.12.0)\n",
      "Requirement already satisfied: dask-cuda==24.12.* in /usr/local/lib/python3.10/dist-packages (from cuml-cu11) (24.12.0)\n",
      "Requirement already satisfied: joblib>=0.11 in /usr/local/lib/python3.10/dist-packages (from cuml-cu11) (1.4.2)\n",
      "Requirement already satisfied: numba>=0.57 in /usr/local/lib/python3.10/dist-packages (from cuml-cu11) (0.60.0)\n",
      "Requirement already satisfied: numpy<3.0a0,>=1.23 in /usr/local/lib/python3.10/dist-packages (from cuml-cu11) (2.0.2)\n",
      "Requirement already satisfied: packaging in /usr/local/lib/python3.10/dist-packages (from cuml-cu11) (23.2)\n",
      "Requirement already satisfied: pylibraft-cu11==24.12.* in /usr/local/lib/python3.10/dist-packages (from cuml-cu11) (24.12.0)\n",
      "Requirement already satisfied: raft-dask-cu11==24.12.* in /usr/local/lib/python3.10/dist-packages (from cuml-cu11) (24.12.0)\n",
      "Requirement already satisfied: rapids-dask-dependency==24.12.* in /usr/local/lib/python3.10/dist-packages (from cuml-cu11) (24.12.0)\n",
      "Requirement already satisfied: rmm-cu11==24.12.* in /usr/local/lib/python3.10/dist-packages (from cuml-cu11) (24.12.1)\n",
      "Requirement already satisfied: scipy>=1.8.0 in /usr/local/lib/python3.10/dist-packages (from cuml-cu11) (1.14.1)\n",
      "Requirement already satisfied: treelite==4.3.0 in /usr/local/lib/python3.10/dist-packages (from cuml-cu11) (4.3.0)\n",
      "Requirement already satisfied: fsspec>=0.6.0 in /usr/local/lib/python3.10/dist-packages (from dask-cudf-cu11) (2023.4.0)\n",
      "Requirement already satisfied: pandas<2.2.4dev0,>=2.0 in /usr/local/lib/python3.10/dist-packages (from dask-cudf-cu11) (2.2.3)\n",
      "Requirement already satisfied: pynvml<12.0.0a0,>=11.4.1 in /usr/local/lib/python3.10/dist-packages (from dask-cudf-cu11) (11.4.1)\n",
      "Requirement already satisfied: cachetools in /usr/local/lib/python3.10/dist-packages (from cudf-cu11==24.12.*->cuml-cu11) (5.5.0)\n",
      "Requirement already satisfied: cubinlinker-cu11 in /usr/local/lib/python3.10/dist-packages (from cudf-cu11==24.12.*->cuml-cu11) (0.3.0.post2)\n",
      "Requirement already satisfied: cuda-python<12.0a0,<=11.8.3,>=11.7.1 in /usr/local/lib/python3.10/dist-packages (from cudf-cu11==24.12.*->cuml-cu11) (11.8.3)\n",
      "Requirement already satisfied: libcudf-cu11==24.12.* in /usr/local/lib/python3.10/dist-packages (from cudf-cu11==24.12.*->cuml-cu11) (24.12.0)\n",
      "Requirement already satisfied: numba-cuda<0.0.18,>=0.0.13 in /usr/local/lib/python3.10/dist-packages (from cudf-cu11==24.12.*->cuml-cu11) (0.0.17.1)\n",
      "Requirement already satisfied: nvtx>=0.2.1 in /usr/local/lib/python3.10/dist-packages (from cudf-cu11==24.12.*->cuml-cu11) (0.2.10)\n",
      "Requirement already satisfied: ptxcompiler-cu11 in /usr/local/lib/python3.10/dist-packages (from cudf-cu11==24.12.*->cuml-cu11) (0.8.1.post2)\n",
      "Requirement already satisfied: pyarrow<19.0.0a0,>=14.0.0 in /usr/local/lib/python3.10/dist-packages (from cudf-cu11==24.12.*->cuml-cu11) (18.1.0)\n",
      "Requirement already satisfied: pylibcudf-cu11==24.12.* in /usr/local/lib/python3.10/dist-packages (from cudf-cu11==24.12.*->cuml-cu11) (24.12.0)\n",
      "Requirement already satisfied: rich in /usr/local/lib/python3.10/dist-packages (from cudf-cu11==24.12.*->cuml-cu11) (13.9.4)\n",
      "Requirement already satisfied: typing_extensions>=4.0.0 in /usr/local/lib/python3.10/dist-packages (from cudf-cu11==24.12.*->cuml-cu11) (4.12.2)\n",
      "Requirement already satisfied: click>=8.1 in /usr/local/lib/python3.10/dist-packages (from dask-cuda==24.12.*->cuml-cu11) (8.1.7)\n",
      "Requirement already satisfied: zict>=2.0.0 in /usr/local/lib/python3.10/dist-packages (from dask-cuda==24.12.*->cuml-cu11) (3.0.0)\n",
      "Requirement already satisfied: distributed-ucxx-cu11==0.41.* in /usr/local/lib/python3.10/dist-packages (from raft-dask-cu11==24.12.*->cuml-cu11) (0.41.0)\n",
      "Requirement already satisfied: ucx-py-cu11==0.41.* in /usr/local/lib/python3.10/dist-packages (from raft-dask-cu11==24.12.*->cuml-cu11) (0.41.0)\n",
      "Requirement already satisfied: dask==2024.11.2 in /usr/local/lib/python3.10/dist-packages (from rapids-dask-dependency==24.12.*->cuml-cu11) (2024.11.2)\n",
      "Requirement already satisfied: distributed==2024.11.2 in /usr/local/lib/python3.10/dist-packages (from rapids-dask-dependency==24.12.*->cuml-cu11) (2024.11.2)\n",
      "Requirement already satisfied: dask-expr==1.1.19 in /usr/local/lib/python3.10/dist-packages (from rapids-dask-dependency==24.12.*->cuml-cu11) (1.1.19)\n",
      "Requirement already satisfied: cloudpickle>=3.0.0 in /usr/local/lib/python3.10/dist-packages (from dask==2024.11.2->rapids-dask-dependency==24.12.*->cuml-cu11) (3.1.0)\n",
      "Requirement already satisfied: partd>=1.4.0 in /usr/local/lib/python3.10/dist-packages (from dask==2024.11.2->rapids-dask-dependency==24.12.*->cuml-cu11) (1.4.2)\n",
      "Requirement already satisfied: pyyaml>=5.3.1 in /usr/local/lib/python3.10/dist-packages (from dask==2024.11.2->rapids-dask-dependency==24.12.*->cuml-cu11) (6.0.1)\n",
      "Requirement already satisfied: toolz>=0.10.0 in /usr/local/lib/python3.10/dist-packages (from dask==2024.11.2->rapids-dask-dependency==24.12.*->cuml-cu11) (1.0.0)\n",
      "Requirement already satisfied: importlib-metadata>=4.13.0 in /usr/local/lib/python3.10/dist-packages (from dask==2024.11.2->rapids-dask-dependency==24.12.*->cuml-cu11) (8.5.0)\n",
      "Requirement already satisfied: jinja2>=2.10.3 in /usr/local/lib/python3.10/dist-packages (from distributed==2024.11.2->rapids-dask-dependency==24.12.*->cuml-cu11) (3.1.2)\n",
      "Requirement already satisfied: locket>=1.0.0 in /usr/local/lib/python3.10/dist-packages (from distributed==2024.11.2->rapids-dask-dependency==24.12.*->cuml-cu11) (1.0.0)\n",
      "Requirement already satisfied: msgpack>=1.0.2 in /usr/local/lib/python3.10/dist-packages (from distributed==2024.11.2->rapids-dask-dependency==24.12.*->cuml-cu11) (1.1.0)\n",
      "Requirement already satisfied: psutil>=5.8.0 in /usr/local/lib/python3.10/dist-packages (from distributed==2024.11.2->rapids-dask-dependency==24.12.*->cuml-cu11) (5.9.6)\n",
      "Requirement already satisfied: sortedcontainers>=2.0.5 in /usr/local/lib/python3.10/dist-packages (from distributed==2024.11.2->rapids-dask-dependency==24.12.*->cuml-cu11) (2.4.0)\n",
      "Requirement already satisfied: tblib>=1.6.0 in /usr/local/lib/python3.10/dist-packages (from distributed==2024.11.2->rapids-dask-dependency==24.12.*->cuml-cu11) (3.0.0)\n",
      "Requirement already satisfied: tornado>=6.2.0 in /usr/local/lib/python3.10/dist-packages (from distributed==2024.11.2->rapids-dask-dependency==24.12.*->cuml-cu11) (6.3.3)\n",
      "Requirement already satisfied: urllib3>=1.26.5 in /usr/local/lib/python3.10/dist-packages (from distributed==2024.11.2->rapids-dask-dependency==24.12.*->cuml-cu11) (1.26.13)\n",
      "Requirement already satisfied: ucxx-cu11==0.41.* in /usr/local/lib/python3.10/dist-packages (from distributed-ucxx-cu11==0.41.*->raft-dask-cu11==24.12.*->cuml-cu11) (0.41.0)\n",
      "Requirement already satisfied: libkvikio-cu11==24.12.* in /usr/local/lib/python3.10/dist-packages (from libcudf-cu11==24.12.*->cudf-cu11==24.12.*->cuml-cu11) (24.12.1)\n",
      "Requirement already satisfied: nvidia-nvcomp-cu11==4.1.0.6 in /usr/local/lib/python3.10/dist-packages (from libcudf-cu11==24.12.*->cudf-cu11==24.12.*->cuml-cu11) (4.1.0.6)\n",
      "Requirement already satisfied: libucx-cu11<1.18,>=1.15.0 in /usr/local/lib/python3.10/dist-packages (from ucx-py-cu11==0.41.*->raft-dask-cu11==24.12.*->cuml-cu11) (1.17.0.post1)\n",
      "Requirement already satisfied: libucxx-cu11==0.41.* in /usr/local/lib/python3.10/dist-packages (from ucxx-cu11==0.41.*->distributed-ucxx-cu11==0.41.*->raft-dask-cu11==24.12.*->cuml-cu11) (0.41.0)\n",
      "Requirement already satisfied: fastrlock>=0.5 in /usr/local/lib/python3.10/dist-packages (from cupy-cuda11x>=12.0.0->cuml-cu11) (0.8.2)\n",
      "Requirement already satisfied: llvmlite<0.44,>=0.43.0dev0 in /usr/local/lib/python3.10/dist-packages (from numba>=0.57->cuml-cu11) (0.43.0)\n",
      "Requirement already satisfied: python-dateutil>=2.8.2 in /usr/local/lib/python3.10/dist-packages (from pandas<2.2.4dev0,>=2.0->dask-cudf-cu11) (2.8.2)\n",
      "Requirement already satisfied: pytz>=2020.1 in /usr/local/lib/python3.10/dist-packages (from pandas<2.2.4dev0,>=2.0->dask-cudf-cu11) (2024.2)\n",
      "Requirement already satisfied: tzdata>=2022.7 in /usr/local/lib/python3.10/dist-packages (from pandas<2.2.4dev0,>=2.0->dask-cudf-cu11) (2024.2)\n",
      "Requirement already satisfied: six>=1.5 in /usr/lib/python3/dist-packages (from python-dateutil>=2.8.2->pandas<2.2.4dev0,>=2.0->dask-cudf-cu11) (1.16.0)\n",
      "Requirement already satisfied: markdown-it-py>=2.2.0 in /usr/local/lib/python3.10/dist-packages (from rich->cudf-cu11==24.12.*->cuml-cu11) (3.0.0)\n",
      "Requirement already satisfied: pygments<3.0.0,>=2.13.0 in /usr/local/lib/python3.10/dist-packages (from rich->cudf-cu11==24.12.*->cuml-cu11) (2.16.1)\n",
      "Requirement already satisfied: zipp>=3.20 in /usr/local/lib/python3.10/dist-packages (from importlib-metadata>=4.13.0->dask==2024.11.2->rapids-dask-dependency==24.12.*->cuml-cu11) (3.21.0)\n",
      "Requirement already satisfied: MarkupSafe>=2.0 in /usr/local/lib/python3.10/dist-packages (from jinja2>=2.10.3->distributed==2024.11.2->rapids-dask-dependency==24.12.*->cuml-cu11) (2.1.2)\n",
      "Requirement already satisfied: mdurl~=0.1 in /usr/local/lib/python3.10/dist-packages (from markdown-it-py>=2.2.0->rich->cudf-cu11==24.12.*->cuml-cu11) (0.1.2)\n",
      "\u001b[33mWARNING: Running pip as the 'root' user can result in broken permissions and conflicting behaviour with the system package manager. It is recommended to use a virtual environment instead: https://pip.pypa.io/warnings/venv\u001b[0m\u001b[33m\n",
      "\u001b[0m\n",
      "\u001b[1m[\u001b[0m\u001b[34;49mnotice\u001b[0m\u001b[1;39;49m]\u001b[0m\u001b[39;49m A new release of pip is available: \u001b[0m\u001b[31;49m23.3.1\u001b[0m\u001b[39;49m -> \u001b[0m\u001b[32;49m24.3.1\u001b[0m\n",
      "\u001b[1m[\u001b[0m\u001b[34;49mnotice\u001b[0m\u001b[1;39;49m]\u001b[0m\u001b[39;49m To update, run: \u001b[0m\u001b[32;49mpython -m pip install --upgrade pip\u001b[0m\n",
      "Note: you may need to restart the kernel to use updated packages.\n"
     ]
    }
   ],
   "source": [
    "pip install cuml-cu11 dask-cudf-cu11 -f https://rapids.ai/pip/cu11"
   ]
  },
  {
   "cell_type": "code",
   "execution_count": 8,
   "id": "37258dd0-539e-4370-b3bc-8302a68347f3",
   "metadata": {},
   "outputs": [
    {
     "name": "stdout",
     "output_type": "stream",
     "text": [
      "Requirement already satisfied: numpy in /usr/local/lib/python3.10/dist-packages (2.0.2)\n",
      "Requirement already satisfied: scikit-learn in /usr/local/lib/python3.10/dist-packages (1.6.0)\n",
      "Requirement already satisfied: joblib in /usr/local/lib/python3.10/dist-packages (1.4.2)\n",
      "Requirement already satisfied: matplotlib in /usr/local/lib/python3.10/dist-packages (3.10.0)\n",
      "Requirement already satisfied: scipy>=1.6.0 in /usr/local/lib/python3.10/dist-packages (from scikit-learn) (1.14.1)\n",
      "Requirement already satisfied: threadpoolctl>=3.1.0 in /usr/local/lib/python3.10/dist-packages (from scikit-learn) (3.5.0)\n",
      "Requirement already satisfied: contourpy>=1.0.1 in /usr/local/lib/python3.10/dist-packages (from matplotlib) (1.3.1)\n",
      "Requirement already satisfied: cycler>=0.10 in /usr/local/lib/python3.10/dist-packages (from matplotlib) (0.12.1)\n",
      "Requirement already satisfied: fonttools>=4.22.0 in /usr/local/lib/python3.10/dist-packages (from matplotlib) (4.55.3)\n",
      "Requirement already satisfied: kiwisolver>=1.3.1 in /usr/local/lib/python3.10/dist-packages (from matplotlib) (1.4.7)\n",
      "Requirement already satisfied: packaging>=20.0 in /usr/local/lib/python3.10/dist-packages (from matplotlib) (23.2)\n",
      "Requirement already satisfied: pillow>=8 in /usr/local/lib/python3.10/dist-packages (from matplotlib) (11.0.0)\n",
      "Requirement already satisfied: pyparsing>=2.3.1 in /usr/lib/python3/dist-packages (from matplotlib) (2.4.7)\n",
      "Requirement already satisfied: python-dateutil>=2.7 in /usr/local/lib/python3.10/dist-packages (from matplotlib) (2.8.2)\n",
      "Requirement already satisfied: six>=1.5 in /usr/lib/python3/dist-packages (from python-dateutil>=2.7->matplotlib) (1.16.0)\n",
      "\u001b[33mWARNING: Running pip as the 'root' user can result in broken permissions and conflicting behaviour with the system package manager. It is recommended to use a virtual environment instead: https://pip.pypa.io/warnings/venv\u001b[0m\u001b[33m\n",
      "\u001b[0m\n",
      "\u001b[1m[\u001b[0m\u001b[34;49mnotice\u001b[0m\u001b[1;39;49m]\u001b[0m\u001b[39;49m A new release of pip is available: \u001b[0m\u001b[31;49m23.3.1\u001b[0m\u001b[39;49m -> \u001b[0m\u001b[32;49m24.3.1\u001b[0m\n",
      "\u001b[1m[\u001b[0m\u001b[34;49mnotice\u001b[0m\u001b[1;39;49m]\u001b[0m\u001b[39;49m To update, run: \u001b[0m\u001b[32;49mpython -m pip install --upgrade pip\u001b[0m\n",
      "Note: you may need to restart the kernel to use updated packages.\n"
     ]
    }
   ],
   "source": [
    "pip install numpy scikit-learn joblib matplotlib"
   ]
  },
  {
   "cell_type": "code",
   "execution_count": 9,
   "id": "139a9c3f-d58d-45b3-8a62-59365a7efa43",
   "metadata": {},
   "outputs": [],
   "source": [
    "import numpy as np\n",
    "from cuml.svm import SVC\n",
    "from sklearn.metrics import accuracy_score, classification_report, confusion_matrix\n",
    "from sklearn.preprocessing import StandardScaler\n",
    "import joblib\n",
    "import os"
   ]
  },
  {
   "cell_type": "code",
   "execution_count": 10,
   "id": "0a4cf40e-6f45-421f-a06a-fcb9baff9281",
   "metadata": {},
   "outputs": [
    {
     "name": "stdout",
     "output_type": "stream",
     "text": [
      "cuML is available. Using GPU acceleration.\n"
     ]
    }
   ],
   "source": [
    "# Check for GPU availability\n",
    "try:\n",
    "    import cuml\n",
    "    print(\"cuML is available. Using GPU acceleration.\")\n",
    "except ImportError:\n",
    "    raise RuntimeError(\"cuML is not installed. Please install RAPIDS cuML for GPU-accelerated SVM.\")"
   ]
  },
  {
   "cell_type": "code",
   "execution_count": 11,
   "id": "55fa636b-e294-4568-ba28-f0d6e9345da2",
   "metadata": {},
   "outputs": [
    {
     "name": "stdout",
     "output_type": "stream",
     "text": [
      "Loading Saved Data\n",
      "Scaling Loaded Data\n"
     ]
    }
   ],
   "source": [
    "# Loading Saved Data\n",
    "print(\"Loading Saved Data\")\n",
    "train_features = np.load('train_features_reduced.npy')\n",
    "train_labels = np.load('train_labels_reduced.npy')\n",
    "test_features = np.load('test_features_reduced.npy')\n",
    "test_labels = np.load('test_labels_reduced.npy')\n",
    "val_features = np.load('val_features_reduced.npy')\n",
    "val_labels = np.load('val_labels_reduced.npy')\n",
    "\n",
    "print(\"Scaling Loaded Data\")\n",
    "scaler = joblib.load('scaler.pkl')\n",
    "train_features = scaler.fit_transform(train_features)\n",
    "val_features = scaler.transform(val_features)\n",
    "test_features = scaler.transform(test_features)"
   ]
  },
  {
   "cell_type": "code",
   "execution_count": 12,
   "id": "47d39504-9c85-470d-82cf-feb49eb71319",
   "metadata": {},
   "outputs": [
    {
     "name": "stdout",
     "output_type": "stream",
     "text": [
      "Starting SVM training\n",
      "Training complete\n",
      "SVM model saved.\n"
     ]
    }
   ],
   "source": [
    "print(\"Starting SVM training\")\n",
    "svm = SVC(kernel='rbf', C=1.0, probability=True)\n",
    "svm.fit(train_features, train_labels)\n",
    "print(\"Training complete\")\n",
    "\n",
    "# Save the SVM model\n",
    "joblib.dump(svm, 'svm_model_reduced.pkl')\n",
    "print(\"SVM model saved.\")"
   ]
  },
  {
   "cell_type": "code",
   "execution_count": 14,
   "id": "db3635e7-b0f6-4363-a296-157c15828edf",
   "metadata": {},
   "outputs": [
    {
     "name": "stdout",
     "output_type": "stream",
     "text": [
      "Evaluating on validation data\n",
      "Validation Accuracy: 0.9602\n",
      "Evaluating on test data\n",
      "Test Accuracy: 0.9636\n",
      "Classification Report on Test Set:\n",
      "              precision    recall  f1-score   support\n",
      "\n",
      "           0       0.95      0.95      0.95      6104\n",
      "           1       0.97      0.97      0.97      9977\n",
      "\n",
      "    accuracy                           0.96     16081\n",
      "   macro avg       0.96      0.96      0.96     16081\n",
      "weighted avg       0.96      0.96      0.96     16081\n",
      "\n"
     ]
    },
    {
     "data": {
      "text/plain": [
       "<Figure size 800x600 with 0 Axes>"
      ]
     },
     "metadata": {},
     "output_type": "display_data"
    },
    {
     "data": {
      "image/png": "[encoded data removed]",
      "text/plain": [
       "<Figure size 480x480 with 2 Axes>"
      ]
     },
     "metadata": {},
     "output_type": "display_data"
    }
   ],
   "source": [
    "# Evaluate on validation data\n",
    "print(\"Evaluating on validation data\")\n",
    "val_preds = svm.predict(val_features)\n",
    "val_accuracy = accuracy_score(val_labels, val_preds)\n",
    "print(f\"Validation Accuracy: {val_accuracy:.4f}\")\n",
    "\n",
    "# Evaluate on test data\n",
    "print(\"Evaluating on test data\")\n",
    "test_preds = svm.predict(test_features)\n",
    "test_accuracy = accuracy_score(test_labels, test_preds)\n",
    "print(f\"Test Accuracy: {test_accuracy:.4f}\")\n",
    "\n",
    "# Generate classification report and confusion matrix\n",
    "print(\"Classification Report on Test Set:\")\n",
    "print(classification_report(test_labels, test_preds))\n",
    "\n",
    "conf_matrix = confusion_matrix(test_labels, test_preds)\n",
    "\n",
    "# Save confusion matrix plot\n",
    "import matplotlib.pyplot as plt\n",
    "plt.figure(figsize=(8, 6))  # Create a new figure\n",
    "plt.matshow(conf_matrix, cmap='coolwarm')\n",
    "plt.title('Confusion Matrix')\n",
    "plt.colorbar()\n",
    "plt.ylabel('Actual Labels')\n",
    "plt.xlabel('Predicted Labels')\n",
    "plt.savefig('confusion_matrix.png')\n",
    "plt.show()\n",
    "\n"
   ]
  },
  {
   "cell_type": "markdown",
   "id": "75c77fc7",
   "metadata": {},
   "source": [
    "Strong Performance Across Both Classes: The model shows excellent precision, recall, and F1-scores for both the Real (0) and AI (1) classes. The AI class, in particular, has a high precision and recall, which indicates that the model is very accurate in predicting instances of AI.\n",
    "\n",
    "High Test Accuracy: With a 96.36% test accuracy, the model demonstrates strong generalization and performs very well on unseen data.\n",
    "\n",
    "Balanced Performance: The recall for both classes is above 0.95, meaning the model does not favor one class over the other and handles the classification task effectively."
   ]
  }
 ],
 "metadata": {
  "kernelspec": {
   "display_name": "Python 3 (ipykernel)",
   "language": "python",
   "name": "python3"
  },
  "language_info": {
   "codemirror_mode": {
    "name": "ipython",
    "version": 3
   },
   "file_extension": ".py",
   "mimetype": "text/x-python",
   "name": "python",
   "nbconvert_exporter": "python",
   "pygments_lexer": "ipython3",
   "version": "3.10.12"
  }
 },
 "nbformat": 4,
 "nbformat_minor": 5
}
