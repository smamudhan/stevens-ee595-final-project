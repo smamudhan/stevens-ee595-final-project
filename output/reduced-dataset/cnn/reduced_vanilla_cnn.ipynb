{
 "cells": [
  {
   "cell_type": "code",
   "execution_count": 1,
   "id": "c708f3eb-f7d1-4b0d-9ef2-0ef42141bfc8",
   "metadata": {},
   "outputs": [
    {
     "name": "stdout",
     "output_type": "stream",
     "text": [
      "Requirement already satisfied: torch in /usr/local/lib/python3.10/dist-packages (2.1.0+cu118)\n",
      "Requirement already satisfied: torchvision in /usr/local/lib/python3.10/dist-packages (0.16.0+cu118)\n",
      "Requirement already satisfied: matplotlib in /usr/local/lib/python3.10/dist-packages (3.10.0)\n",
      "Requirement already satisfied: filelock in /usr/local/lib/python3.10/dist-packages (from torch) (3.9.0)\n",
      "Requirement already satisfied: typing-extensions in /usr/local/lib/python3.10/dist-packages (from torch) (4.4.0)\n",
      "Requirement already satisfied: sympy in /usr/local/lib/python3.10/dist-packages (from torch) (1.12)\n",
      "Requirement already satisfied: networkx in /usr/local/lib/python3.10/dist-packages (from torch) (3.0)\n",
      "Requirement already satisfied: jinja2 in /usr/local/lib/python3.10/dist-packages (from torch) (3.1.2)\n",
      "Requirement already satisfied: fsspec in /usr/local/lib/python3.10/dist-packages (from torch) (2023.4.0)\n",
      "Requirement already satisfied: triton==2.1.0 in /usr/local/lib/python3.10/dist-packages (from torch) (2.1.0)\n",
      "Requirement already satisfied: numpy in /usr/local/lib/python3.10/dist-packages (from torchvision) (1.24.1)\n",
      "Requirement already satisfied: requests in /usr/local/lib/python3.10/dist-packages (from torchvision) (2.31.0)\n",
      "Requirement already satisfied: pillow!=8.3.*,>=5.3.0 in /usr/local/lib/python3.10/dist-packages (from torchvision) (9.3.0)\n",
      "Requirement already satisfied: contourpy>=1.0.1 in /usr/local/lib/python3.10/dist-packages (from matplotlib) (1.3.1)\n",
      "Requirement already satisfied: cycler>=0.10 in /usr/local/lib/python3.10/dist-packages (from matplotlib) (0.12.1)\n",
      "Requirement already satisfied: fonttools>=4.22.0 in /usr/local/lib/python3.10/dist-packages (from matplotlib) (4.55.3)\n",
      "Requirement already satisfied: kiwisolver>=1.3.1 in /usr/local/lib/python3.10/dist-packages (from matplotlib) (1.4.7)\n",
      "Requirement already satisfied: packaging>=20.0 in /usr/local/lib/python3.10/dist-packages (from matplotlib) (23.2)\n",
      "Requirement already satisfied: pyparsing>=2.3.1 in /usr/lib/python3/dist-packages (from matplotlib) (2.4.7)\n",
      "Requirement already satisfied: python-dateutil>=2.7 in /usr/local/lib/python3.10/dist-packages (from matplotlib) (2.8.2)\n",
      "Requirement already satisfied: six>=1.5 in /usr/lib/python3/dist-packages (from python-dateutil>=2.7->matplotlib) (1.16.0)\n",
      "Requirement already satisfied: MarkupSafe>=2.0 in /usr/local/lib/python3.10/dist-packages (from jinja2->torch) (2.1.2)\n",
      "Requirement already satisfied: charset-normalizer<4,>=2 in /usr/local/lib/python3.10/dist-packages (from requests->torchvision) (2.1.1)\n",
      "Requirement already satisfied: idna<4,>=2.5 in /usr/local/lib/python3.10/dist-packages (from requests->torchvision) (3.4)\n",
      "Requirement already satisfied: urllib3<3,>=1.21.1 in /usr/local/lib/python3.10/dist-packages (from requests->torchvision) (1.26.13)\n",
      "Requirement already satisfied: certifi>=2017.4.17 in /usr/local/lib/python3.10/dist-packages (from requests->torchvision) (2022.12.7)\n",
      "Requirement already satisfied: mpmath>=0.19 in /usr/local/lib/python3.10/dist-packages (from sympy->torch) (1.3.0)\n",
      "\u001b[33mWARNING: Running pip as the 'root' user can result in broken permissions and conflicting behaviour with the system package manager. It is recommended to use a virtual environment instead: https://pip.pypa.io/warnings/venv\u001b[0m\u001b[33m\n",
      "\u001b[0m\n",
      "\u001b[1m[\u001b[0m\u001b[34;49mnotice\u001b[0m\u001b[1;39;49m]\u001b[0m\u001b[39;49m A new release of pip is available: \u001b[0m\u001b[31;49m23.3.1\u001b[0m\u001b[39;49m -> \u001b[0m\u001b[32;49m24.3.1\u001b[0m\n",
      "\u001b[1m[\u001b[0m\u001b[34;49mnotice\u001b[0m\u001b[1;39;49m]\u001b[0m\u001b[39;49m To update, run: \u001b[0m\u001b[32;49mpython -m pip install --upgrade pip\u001b[0m\n",
      "Note: you may need to restart the kernel to use updated packages.\n"
     ]
    }
   ],
   "source": [
    "pip install torch torchvision matplotlib"
   ]
  },
  {
   "cell_type": "code",
   "execution_count": 2,
   "id": "cd7a88a7-2cd5-418b-94de-8919f3bafce3",
   "metadata": {},
   "outputs": [],
   "source": [
    "import torch\n",
    "import torch.nn as nn\n",
    "import torch.optim as optim\n",
    "from torchvision import datasets, transforms\n",
    "from torch.utils.data import DataLoader, random_split\n",
    "import os\n",
    "import matplotlib.pyplot as plt"
   ]
  },
  {
   "cell_type": "code",
   "execution_count": 3,
   "id": "0eef6062-55e6-449f-be87-f58b6397bb79",
   "metadata": {},
   "outputs": [
    {
     "name": "stdout",
     "output_type": "stream",
     "text": [
      "Using device: cuda\n"
     ]
    }
   ],
   "source": [
    "# Verify if GPU is available\n",
    "device = torch.device(\"cuda\" if torch.cuda.is_available() else \"cpu\")\n",
    "print(f\"Using device: {device}\")\n",
    "\n",
    "# Set paths to dataset\n",
    "data_dir = \"./dataset/dataset-reduced\"  \n",
    "output_dir = \"./output/reduced-dataset/vanilla-cnn\""
   ]
  },
  {
   "cell_type": "code",
   "execution_count": 4,
   "id": "c4d28726-8623-47e3-a95b-7130918cd222",
   "metadata": {},
   "outputs": [
    {
     "name": "stdout",
     "output_type": "stream",
     "text": [
      "Starting Data Transformations\n",
      "Data Transformations Complete\n"
     ]
    }
   ],
   "source": [
    "# Define data transformations\n",
    "print(\"Starting Data Transformations\")\n",
    "transform = transforms.Compose([\n",
    "    transforms.Resize((200, 200)),\n",
    "    transforms.ToTensor(),\n",
    "    transforms.Normalize(mean=[0.5, 0.5, 0.5], std=[0.5, 0.5, 0.5])\n",
    "])\n",
    "print(\"Data Transformations Complete\")"
   ]
  },
  {
   "cell_type": "code",
   "execution_count": 5,
   "id": "29533363-80b8-43aa-9c7a-c8b33dbc3340",
   "metadata": {},
   "outputs": [],
   "source": [
    "dataset = datasets.ImageFolder(data_dir, transform=transform)"
   ]
  },
  {
   "cell_type": "code",
   "execution_count": 6,
   "id": "0a85cbb9-4982-4a80-9d96-b912d426aa60",
   "metadata": {},
   "outputs": [
    {
     "name": "stdout",
     "output_type": "stream",
     "text": [
      "Splitting dataset into training, validation, and test sets\n"
     ]
    }
   ],
   "source": [
    "# Split dataset into training, validation, and test sets\n",
    "print(\"Splitting dataset into training, validation, and test sets\")\n",
    "train_size = int(0.7 * len(dataset))\n",
    "val_size = int(0.2 * len(dataset))\n",
    "test_size = len(dataset) - train_size - val_size\n",
    "\n",
    "train_dataset, val_dataset, test_dataset = random_split(dataset, [train_size, val_size, test_size])"
   ]
  },
  {
   "cell_type": "code",
   "execution_count": 7,
   "id": "572a266a-4158-457b-85d4-6e4a85be458e",
   "metadata": {},
   "outputs": [
    {
     "name": "stdout",
     "output_type": "stream",
     "text": [
      "Preparing data loaders\n",
      "Finished preparing data loaders\n"
     ]
    }
   ],
   "source": [
    "print(\"Preparing data loaders\")\n",
    "train_loader = DataLoader(train_dataset, batch_size=800, shuffle=True, num_workers=13, pin_memory=True)\n",
    "val_loader = DataLoader(val_dataset, batch_size=500, shuffle=False, num_workers=13, pin_memory=True)\n",
    "test_loader = DataLoader(test_dataset, batch_size=500, shuffle=False, num_workers=13, pin_memory=True)\n",
    "print(\"Finished preparing data loaders\")"
   ]
  },
  {
   "cell_type": "code",
   "execution_count": 8,
   "id": "30205082-5341-4e87-bcbd-3b847c46f62a",
   "metadata": {},
   "outputs": [],
   "source": [
    "# Define the model\n",
    "class CNNModel(nn.Module):\n",
    "    def __init__(self):\n",
    "        super(CNNModel, self).__init__()\n",
    "        self.conv_layers = nn.Sequential(\n",
    "            nn.Conv2d(3, 32, kernel_size=3),\n",
    "            nn.ReLU(),\n",
    "            nn.MaxPool2d(kernel_size=2, stride=2),\n",
    "            nn.Conv2d(32, 64, kernel_size=3),\n",
    "            nn.ReLU(),\n",
    "            nn.MaxPool2d(kernel_size=2, stride=2),\n",
    "            nn.Conv2d(64, 128, kernel_size=3),\n",
    "            nn.ReLU(),\n",
    "            nn.MaxPool2d(kernel_size=2, stride=2)\n",
    "        )\n",
    "        # Calculate the flattened size after the convolutional layers\n",
    "        test_input = torch.zeros(1, 3, 200, 200)  # Example input\n",
    "        conv_output_size = self.conv_layers(test_input).view(1, -1).size(1)\n",
    "\n",
    "        self.fc_layers = nn.Sequential(\n",
    "            nn.Flatten(),\n",
    "            nn.Linear(conv_output_size, 128),\n",
    "            nn.ReLU(),\n",
    "            nn.Dropout(0.5),\n",
    "            nn.Linear(128, 1),\n",
    "            nn.Sigmoid()\n",
    "        )\n",
    "\n",
    "    def forward(self, x):\n",
    "        x = self.conv_layers(x)\n",
    "        x = self.fc_layers(x)\n",
    "        return x\n"
   ]
  },
  {
   "cell_type": "markdown",
   "id": "67af4e90",
   "metadata": {},
   "source": [
    "Convolutional Layers (conv_layers):\n",
    "The network has three convolutional blocks:\n",
    "    Each block includes a convolutional layer (e.g., nn.Conv2d) with ReLU activation and a max pooling layer (nn.MaxPool2d) for downsampling.\n",
    "    The input channels start at 3 (e.g., for RGB images) and progressively increase to 32, 64, and 128.\n",
    "\n",
    "Dynamic Flattening Size Calculation:\n",
    "To determine the output size of the convolutional layers dynamically, a dummy input tensor of shape (1, 3, 200, 200) is passed through self.conv_layers.\n",
    "The output is flattened, and its size is computed using .view(1, -1).size(1).\n",
    "\n",
    "Fully Connected Layers (fc_layers):\n",
    "After flattening, the data passes through two fully connected layers (nn.Linear):\n",
    "    First layer reduces to 128 units with a ReLU activation and a Dropout (50% for regularization).\n",
    "    Second layer reduces to 1 output with a Sigmoid activation for binary classification.\n",
    "\n",
    "Output:\n",
    "The model outputs a probability score (range [0, 1]) for binary classification."
   ]
  },
  {
   "cell_type": "code",
   "execution_count": 9,
   "id": "7fe082f3-2f4d-4e30-b442-f9008b92f24a",
   "metadata": {},
   "outputs": [
    {
     "name": "stdout",
     "output_type": "stream",
     "text": [
      "Starting Model Definition\n",
      "Model Definition Complete\n"
     ]
    }
   ],
   "source": [
    "print(\"Starting Model Definition\")\n",
    "model = CNNModel().to(device)\n",
    "print(\"Model Definition Complete\")\n"
   ]
  },
  {
   "cell_type": "code",
   "execution_count": 10,
   "id": "524ec7d8-f430-4aae-9828-51264df7f9ea",
   "metadata": {},
   "outputs": [],
   "source": [
    "# Define loss function and optimizer\n",
    "criterion = nn.BCELoss()\n",
    "optimizer = optim.Adam(model.parameters(), lr=0.001)"
   ]
  },
  {
   "cell_type": "code",
   "execution_count": 11,
   "id": "060f45b9-a451-4b48-8d27-f369dcc45036",
   "metadata": {},
   "outputs": [],
   "source": [
    "# Update the training loop to record loss and accuracy\n",
    "def train_model(model, train_loader, val_loader, criterion, optimizer, device, epochs=10):\n",
    "    print(\"Starting Training Function\")\n",
    "    train_losses = []\n",
    "    val_losses = []\n",
    "    val_accuracies = []\n",
    "\n",
    "    for epoch in range(epochs):\n",
    "        model.train()\n",
    "        running_loss = 0.0\n",
    "        for inputs, labels in train_loader:\n",
    "            inputs, labels = inputs.to(device), labels.to(device).float()\n",
    "            optimizer.zero_grad()\n",
    "            outputs = model(inputs).squeeze()\n",
    "            loss = criterion(outputs, labels)\n",
    "            loss.backward()\n",
    "            optimizer.step()\n",
    "            running_loss += loss.item()\n",
    "\n",
    "        avg_train_loss = running_loss / len(train_loader)\n",
    "        train_losses.append(avg_train_loss)\n",
    "\n",
    "        # Validation phase\n",
    "        model.eval()\n",
    "        val_loss = 0.0\n",
    "        correct = 0\n",
    "        with torch.no_grad():\n",
    "            for inputs, labels in val_loader:\n",
    "                inputs, labels = inputs.to(device), labels.to(device).float()\n",
    "                outputs = model(inputs).squeeze()\n",
    "                loss = criterion(outputs, labels)\n",
    "                val_loss += loss.item()\n",
    "                preds = (outputs > 0.5).float()\n",
    "                correct += (preds == labels).sum().item()\n",
    "\n",
    "        avg_val_loss = val_loss / len(val_loader)\n",
    "        val_losses.append(avg_val_loss)\n",
    "\n",
    "        val_accuracy = correct / len(val_loader.dataset)\n",
    "        val_accuracies.append(val_accuracy)\n",
    "\n",
    "        print(f\"Epoch {epoch+1}, Train Loss: {avg_train_loss:.4f}, Validation Loss: {avg_val_loss:.4f}, Validation Accuracy: {val_accuracy:.4f}\")\n",
    "\n",
    "    return train_losses, val_losses, val_accuracies"
   ]
  },
  {
   "cell_type": "code",
   "execution_count": 12,
   "id": "0f847d7f-9c86-434c-9c8f-a125327879fc",
   "metadata": {},
   "outputs": [
    {
     "name": "stdout",
     "output_type": "stream",
     "text": [
      "Starting Training Function\n",
      "Epoch 1, Train Loss: 0.4501, Validation Loss: 0.2227, Validation Accuracy: 0.9158\n",
      "Epoch 2, Train Loss: 0.1937, Validation Loss: 0.1462, Validation Accuracy: 0.9477\n",
      "Epoch 3, Train Loss: 0.1530, Validation Loss: 0.1209, Validation Accuracy: 0.9584\n",
      "Epoch 4, Train Loss: 0.1084, Validation Loss: 0.0949, Validation Accuracy: 0.9652\n",
      "Epoch 5, Train Loss: 0.0945, Validation Loss: 0.0986, Validation Accuracy: 0.9639\n",
      "Epoch 6, Train Loss: 0.0880, Validation Loss: 0.0741, Validation Accuracy: 0.9746\n",
      "Epoch 7, Train Loss: 0.0710, Validation Loss: 0.0761, Validation Accuracy: 0.9732\n",
      "Epoch 8, Train Loss: 0.0606, Validation Loss: 0.0615, Validation Accuracy: 0.9795\n",
      "Epoch 9, Train Loss: 0.0528, Validation Loss: 0.0722, Validation Accuracy: 0.9744\n",
      "Epoch 10, Train Loss: 0.0479, Validation Loss: 0.0505, Validation Accuracy: 0.9840\n",
      "Epoch 11, Train Loss: 0.0467, Validation Loss: 0.0778, Validation Accuracy: 0.9751\n",
      "Epoch 12, Train Loss: 0.0359, Validation Loss: 0.0603, Validation Accuracy: 0.9808\n",
      "Epoch 13, Train Loss: 0.0295, Validation Loss: 0.0550, Validation Accuracy: 0.9826\n",
      "Epoch 14, Train Loss: 0.0236, Validation Loss: 0.0594, Validation Accuracy: 0.9800\n",
      "Epoch 15, Train Loss: 0.0206, Validation Loss: 0.0477, Validation Accuracy: 0.9861\n",
      "Epoch 16, Train Loss: 0.0254, Validation Loss: 0.0557, Validation Accuracy: 0.9823\n",
      "Epoch 17, Train Loss: 0.0172, Validation Loss: 0.0481, Validation Accuracy: 0.9850\n",
      "Epoch 18, Train Loss: 0.0191, Validation Loss: 0.0611, Validation Accuracy: 0.9807\n",
      "Epoch 19, Train Loss: 0.0135, Validation Loss: 0.0522, Validation Accuracy: 0.9855\n",
      "Epoch 20, Train Loss: 0.0097, Validation Loss: 0.0569, Validation Accuracy: 0.9848\n",
      "Epoch 21, Train Loss: 0.0087, Validation Loss: 0.0796, Validation Accuracy: 0.9748\n",
      "Epoch 22, Train Loss: 0.0191, Validation Loss: 0.0599, Validation Accuracy: 0.9828\n",
      "Epoch 23, Train Loss: 0.0087, Validation Loss: 0.0606, Validation Accuracy: 0.9845\n",
      "Epoch 24, Train Loss: 0.0046, Validation Loss: 0.0664, Validation Accuracy: 0.9843\n",
      "Epoch 25, Train Loss: 0.0065, Validation Loss: 0.0550, Validation Accuracy: 0.9867\n"
     ]
    }
   ],
   "source": [
    "# Call train_model and store metrics\n",
    "train_losses, val_losses, val_accuracies = train_model(model, train_loader, val_loader, criterion, optimizer, device, epochs=25)"
   ]
  },
  {
   "cell_type": "code",
   "execution_count": 13,
   "id": "c3e28b70-e3d7-4e55-a0ac-a9746589bd9a",
   "metadata": {},
   "outputs": [
    {
     "data": {
      "image/png": "[encoded data removed]",
      "text/plain": [
       "<Figure size 1200x500 with 2 Axes>"
      ]
     },
     "metadata": {},
     "output_type": "display_data"
    },
    {
     "data": {
      "text/plain": [
       "<Figure size 640x480 with 0 Axes>"
      ]
     },
     "metadata": {},
     "output_type": "display_data"
    }
   ],
   "source": [
    "# Plot training and validation loss\n",
    "plt.figure(figsize=(12, 5))\n",
    "plt.subplot(1, 2, 1)\n",
    "plt.plot(train_losses, label='Train Loss')\n",
    "plt.plot(val_losses, label='Validation Loss')\n",
    "plt.xlabel('Epochs')\n",
    "plt.ylabel('Loss')\n",
    "plt.title('Training and Validation Loss')\n",
    "plt.legend()\n",
    "\n",
    "# Plot validation accuracy\n",
    "plt.subplot(1, 2, 2)\n",
    "plt.plot(val_accuracies, label='Validation Accuracy', color='green')\n",
    "plt.xlabel('Epochs')\n",
    "plt.ylabel('Accuracy')\n",
    "plt.title('Validation Accuracy')\n",
    "plt.legend()\n",
    "\n",
    "plt.tight_layout()\n",
    "plt.show()\n",
    "plt.savefig(f'{output_dir}/training_metrics.png')"
   ]
  },
  {
   "cell_type": "markdown",
   "id": "22634289",
   "metadata": {},
   "source": [
    "Consistent Improvement:\n",
    "The model improves consistently, with validation accuracy reaching up to 98.67% by epoch 25, demonstrating strong convergence.\n",
    "\n",
    "Low Loss Values:\n",
    "Both train and validation losses decrease steadily, suggesting that the model is learning effectively without overfitting.\n",
    "\n",
    "High Validation Accuracy:\n",
    "Throughout training, the validation accuracy stays high, peaking at 98.67%, indicating the model generalizes well to unseen data.\n",
    "\n",
    "Occasional Validation Loss Spike:\n",
    "Some spikes in validation loss, like in Epoch 21 (0.0796), are observed but are followed by recovery in subsequent epochs, indicating stability during training."
   ]
  },
  {
   "cell_type": "code",
   "execution_count": 14,
   "id": "3c3b609c-d94b-44cb-b119-3501aeb1fb52",
   "metadata": {},
   "outputs": [
    {
     "name": "stdout",
     "output_type": "stream",
     "text": [
      "Test Loss: 0.0541, Test Accuracy: 0.9872\n"
     ]
    }
   ],
   "source": [
    "# Test the model and plot test accuracy if needed\n",
    "def test_model(model, test_loader, device):\n",
    "    model.eval()\n",
    "    test_loss = 0.0\n",
    "    correct = 0\n",
    "    with torch.no_grad():\n",
    "        for inputs, labels in test_loader:\n",
    "            inputs, labels = inputs.to(device), labels.to(device).float()\n",
    "            outputs = model(inputs).squeeze()\n",
    "            loss = criterion(outputs, labels)\n",
    "            test_loss += loss.item()\n",
    "            preds = (outputs > 0.5).float()\n",
    "            correct += (preds == labels).sum().item()\n",
    "\n",
    "    avg_test_loss = test_loss / len(test_loader)\n",
    "    test_accuracy = correct / len(test_loader.dataset)\n",
    "    print(f\"Test Loss: {avg_test_loss:.4f}, Test Accuracy: {test_accuracy:.4f}\")\n",
    "\n",
    "    return avg_test_loss, test_accuracy\n",
    "\n",
    "# Call the test_model function\n",
    "test_loss, test_accuracy = test_model(model, test_loader, device)"
   ]
  },
  {
   "cell_type": "markdown",
   "id": "d04747fc",
   "metadata": {},
   "source": [
    "With 98.72% accuracy and a test loss of 0.0541, the Custom CNN model is highly effective at the classification task, showing excellent generalization and strong predictive capabilities."
   ]
  },
  {
   "cell_type": "code",
   "execution_count": 15,
   "id": "f38b60e3-3ddc-4f48-a175-be3eeaafef5f",
   "metadata": {},
   "outputs": [
    {
     "name": "stdout",
     "output_type": "stream",
     "text": [
      "Model training and testing complete. Model saved.\n"
     ]
    }
   ],
   "source": [
    "# Save the model\n",
    "torch.save(model.state_dict(), f\"{output_dir}/reduced_vanilla_cnn_weights.pth\")\n",
    "\n",
    "print(\"Model training and testing complete. Model saved.\")"
   ]
  }
 ],
 "metadata": {
  "kernelspec": {
   "display_name": "Python 3 (ipykernel)",
   "language": "python",
   "name": "python3"
  },
  "language_info": {
   "codemirror_mode": {
    "name": "ipython",
    "version": 3
   },
   "file_extension": ".py",
   "mimetype": "text/x-python",
   "name": "python",
   "nbconvert_exporter": "python",
   "pygments_lexer": "ipython3",
   "version": "3.10.12"
  }
 },
 "nbformat": 4,
 "nbformat_minor": 5
}
